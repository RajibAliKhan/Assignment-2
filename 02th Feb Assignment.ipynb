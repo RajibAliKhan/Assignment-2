{
 "cells": [
  {
   "cell_type": "code",
   "execution_count": null,
   "id": "be7f0137-1d55-4434-8d0a-60f87d01d346",
   "metadata": {},
   "outputs": [],
   "source": [
    "A1. For loop is used for iteratly or repeatedly analyze the data one by one and print the data as a output. \n",
    "Example -  "
   ]
  },
  {
   "cell_type": "code",
   "execution_count": null,
   "id": "4ea0fbf0-f64e-4485-b9ab-5dfe85208be7",
   "metadata": {},
   "outputs": [],
   "source": [
    "A1 = [\"rajib\",5,8,9,\"pwskills\"]"
   ]
  },
  {
   "cell_type": "code",
   "execution_count": 8,
   "id": "1332f811-6639-45ad-b8cd-742df905de20",
   "metadata": {},
   "outputs": [
    {
     "name": "stdout",
     "output_type": "stream",
     "text": [
      "rajib\n",
      "5\n",
      "8\n",
      "9\n",
      "pwskills\n"
     ]
    }
   ],
   "source": [
    "for item in A1 :\n",
    "    print(item)"
   ]
  },
  {
   "cell_type": "code",
   "execution_count": null,
   "id": "d3320219-9c50-4102-9aae-5d274e18eb7e",
   "metadata": {},
   "outputs": [],
   "source": [
    "In case of while loop, it is used when the previous condition is become true. Only then it will execute. If the condition is false, it will not be executed. After executed, it again chekced the next statement and print accordingly.\n",
    "Example - "
   ]
  },
  {
   "cell_type": "code",
   "execution_count": 9,
   "id": "9de0d5cd-f75d-44a6-ab3d-234a23c4575b",
   "metadata": {},
   "outputs": [
    {
     "name": "stdout",
     "output_type": "stream",
     "text": [
      "1\n",
      "2\n",
      "3\n",
      "4\n",
      "5\n",
      "6\n",
      "7\n",
      "8\n",
      "9\n",
      "10\n"
     ]
    }
   ],
   "source": [
    "A1 = 1\n",
    "while A1 <=10 :\n",
    "    print(A1)\n",
    "    A1 = A1 + 1"
   ]
  },
  {
   "cell_type": "code",
   "execution_count": null,
   "id": "5694db97-0759-4f9d-a900-16c2edd35a16",
   "metadata": {},
   "outputs": [],
   "source": [
    "A2. "
   ]
  },
  {
   "cell_type": "code",
   "execution_count": 10,
   "id": "d1da9eac-1cd6-4470-b0ea-ca33c0cabd2a",
   "metadata": {},
   "outputs": [],
   "source": [
    "A2 = [1,2,3,4,5,6,7,8,9,10]"
   ]
  },
  {
   "cell_type": "code",
   "execution_count": 12,
   "id": "7ea9bad8-d27f-4c0c-9421-f74bcda3c30d",
   "metadata": {},
   "outputs": [
    {
     "data": {
      "text/plain": [
       "55"
      ]
     },
     "execution_count": 12,
     "metadata": {},
     "output_type": "execute_result"
    }
   ],
   "source": [
    "result = 0\n",
    "for i in A2 :\n",
    "    result = result + i\n",
    "result\n",
    "    "
   ]
  },
  {
   "cell_type": "code",
   "execution_count": 13,
   "id": "417809b5-5c03-4b39-95ca-7bb7cfc718e1",
   "metadata": {},
   "outputs": [
    {
     "data": {
      "text/plain": [
       "[1, 2, 3, 4, 5, 6, 7, 8, 9, 10]"
      ]
     },
     "execution_count": 13,
     "metadata": {},
     "output_type": "execute_result"
    }
   ],
   "source": [
    "A2"
   ]
  },
  {
   "cell_type": "code",
   "execution_count": 14,
   "id": "2d6bdd77-7302-4a52-9410-1775bc613f27",
   "metadata": {},
   "outputs": [
    {
     "name": "stdin",
     "output_type": "stream",
     "text": [
      "enter your limit 10\n"
     ]
    },
    {
     "data": {
      "text/plain": [
       "55"
      ]
     },
     "execution_count": 14,
     "metadata": {},
     "output_type": "execute_result"
    }
   ],
   "source": [
    "A2 = int(input(\"enter your limit\"))\n",
    "starting_point = 0\n",
    "counter = 1\n",
    "while counter <= A2 :\n",
    "    starting_point = starting_point + counter\n",
    "    counter = counter + 1\n",
    "starting_point"
   ]
  },
  {
   "cell_type": "code",
   "execution_count": null,
   "id": "de91a895-6c6f-45b3-8ccb-3ac2a020cd20",
   "metadata": {},
   "outputs": [],
   "source": [
    "A3."
   ]
  },
  {
   "cell_type": "code",
   "execution_count": 10,
   "id": "f94f4e09-dfe6-4346-9151-fb3c3dbfcd87",
   "metadata": {},
   "outputs": [
    {
     "name": "stdin",
     "output_type": "stream",
     "text": [
      "enter the units of electricity consumed 310\n"
     ]
    },
    {
     "name": "stdout",
     "output_type": "stream",
     "text": [
      "Total elctricity bill : Rs.  2250.0\n"
     ]
    }
   ],
   "source": [
    "units = int(input(\"enter the units of electricity consumed\"))\n",
    "total_bill = 0\n",
    "if units <= 100 :\n",
    "    total_bill = units * 4.5\n",
    "elif units <= 200 :\n",
    "    total_bill = 100 * 4.5 + (units - 100) * 6\n",
    "elif units <= 300 :\n",
    "    total_bill = 100 * 4.5 + 100 * 6 + (units - 200) * 10\n",
    "else :\n",
    "    total_bill = 100 * 4.5 + 100 * 6 + 100 * 10 + (units - 300) * 20\n",
    "print (\"Total elctricity bill : Rs. \", total_bill)"
   ]
  },
  {
   "cell_type": "code",
   "execution_count": null,
   "id": "4e31decb-0fe9-4bab-9df5-8779b6bc8493",
   "metadata": {},
   "outputs": [],
   "source": [
    "A4."
   ]
  },
  {
   "cell_type": "code",
   "execution_count": null,
   "id": "274aedc2-1e89-4eff-bf9a-cbb622824012",
   "metadata": {},
   "outputs": [],
   "source": [
    "A5"
   ]
  },
  {
   "cell_type": "code",
   "execution_count": 18,
   "id": "696b4edd-5cf4-4334-a663-ef0e6e12772e",
   "metadata": {},
   "outputs": [
    {
     "name": "stdout",
     "output_type": "stream",
     "text": [
      "The number of vowels : 11\n"
     ]
    }
   ],
   "source": [
    "s = \"I want to become a data scientist\"\n",
    "vowels = \"aeiou\"\n",
    "count = 0\n",
    "for i in s :\n",
    "    if i in vowels:\n",
    "        count += 1\n",
    "print(\"The number of vowels :\", count)"
   ]
  },
  {
   "cell_type": "code",
   "execution_count": null,
   "id": "ff310095-0a2e-425b-a915-df326a816db1",
   "metadata": {},
   "outputs": [],
   "source": []
  }
 ],
 "metadata": {
  "kernelspec": {
   "display_name": "Python 3 (ipykernel)",
   "language": "python",
   "name": "python3"
  },
  "language_info": {
   "codemirror_mode": {
    "name": "ipython",
    "version": 3
   },
   "file_extension": ".py",
   "mimetype": "text/x-python",
   "name": "python",
   "nbconvert_exporter": "python",
   "pygments_lexer": "ipython3",
   "version": "3.10.8"
  }
 },
 "nbformat": 4,
 "nbformat_minor": 5
}
